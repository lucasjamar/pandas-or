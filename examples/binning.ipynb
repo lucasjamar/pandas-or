{
 "cells": [
  {
   "cell_type": "code",
   "execution_count": 1,
   "id": "f684404f-5375-4f2d-915b-e2386fd0270d",
   "metadata": {},
   "outputs": [],
   "source": [
    "import pandas_or as pr\n",
    "from pandas_or import knapsack, multi_knapsack, bin_packing\n",
    "import pandas as pd\n",
    "pd.set_option(\"display.max_rows\", 500)"
   ]
  },
  {
   "cell_type": "markdown",
   "id": "7bd46da1-45a7-4d72-a8fa-26879dc65547",
   "metadata": {},
   "source": [
    "## Example 1: Simple knapsack problem for maximizing the value of items in a single basket"
   ]
  },
  {
   "cell_type": "markdown",
   "id": "00153eb8-4349-4d65-863b-1f92ea02da2b",
   "metadata": {},
   "source": [
    "### knapsack() returns a boolean Series determining if an item is packed.\n",
    "See https://developers.google.com/optimization/bin/knapsack"
   ]
  },
  {
   "cell_type": "code",
   "execution_count": 2,
   "id": "a59f24bc-bc4e-4383-850c-c47ba98a0ae4",
   "metadata": {},
   "outputs": [
    {
     "data": {
      "text/html": [
       "<div>\n",
       "<style scoped>\n",
       "    .dataframe tbody tr th:only-of-type {\n",
       "        vertical-align: middle;\n",
       "    }\n",
       "\n",
       "    .dataframe tbody tr th {\n",
       "        vertical-align: top;\n",
       "    }\n",
       "\n",
       "    .dataframe thead th {\n",
       "        text-align: right;\n",
       "    }\n",
       "</style>\n",
       "<table border=\"1\" class=\"dataframe\">\n",
       "  <thead>\n",
       "    <tr style=\"text-align: right;\">\n",
       "      <th></th>\n",
       "      <th>value</th>\n",
       "      <th>weight</th>\n",
       "    </tr>\n",
       "    <tr>\n",
       "      <th>isPacked</th>\n",
       "      <th></th>\n",
       "      <th></th>\n",
       "    </tr>\n",
       "  </thead>\n",
       "  <tbody>\n",
       "    <tr>\n",
       "      <th>False</th>\n",
       "      <td>1070</td>\n",
       "      <td>1024</td>\n",
       "    </tr>\n",
       "    <tr>\n",
       "      <th>True</th>\n",
       "      <td>7534</td>\n",
       "      <td>850</td>\n",
       "    </tr>\n",
       "  </tbody>\n",
       "</table>\n",
       "</div>"
      ],
      "text/plain": [
       "          value  weight\n",
       "isPacked               \n",
       "False      1070    1024\n",
       "True       7534     850"
      ]
     },
     "execution_count": 2,
     "metadata": {},
     "output_type": "execute_result"
    }
   ],
   "source": [
    "items = pr.data.items_knapsack()\n",
    "items[\"isPacked\"] = knapsack(items, capacity=850)\n",
    "items.groupby(\"isPacked\").sum()"
   ]
  },
  {
   "cell_type": "markdown",
   "id": "4e337de0-4454-4f55-ac56-0db0eb1bc4bc",
   "metadata": {},
   "source": [
    "## Example 2: Multi knapsack problem for maximizing the value of items in multiple baskets with various carrying capacities"
   ]
  },
  {
   "cell_type": "markdown",
   "id": "8a32a11e-51b1-4bc7-b73f-e96cc2c59176",
   "metadata": {},
   "source": [
    "### multi_knapsack() returns a DataFrame of included items and the bin they are associated to.\n",
    "See https://developers.google.com/optimization/bin/multiple_knapsack"
   ]
  },
  {
   "cell_type": "code",
   "execution_count": 3,
   "id": "b2813915-491b-47f8-a8f5-056e0aef155d",
   "metadata": {},
   "outputs": [
    {
     "data": {
      "text/html": [
       "<div>\n",
       "<style scoped>\n",
       "    .dataframe tbody tr th:only-of-type {\n",
       "        vertical-align: middle;\n",
       "    }\n",
       "\n",
       "    .dataframe tbody tr th {\n",
       "        vertical-align: top;\n",
       "    }\n",
       "\n",
       "    .dataframe thead th {\n",
       "        text-align: right;\n",
       "    }\n",
       "</style>\n",
       "<table border=\"1\" class=\"dataframe\">\n",
       "  <thead>\n",
       "    <tr style=\"text-align: right;\">\n",
       "      <th></th>\n",
       "      <th>value</th>\n",
       "      <th>weight</th>\n",
       "      <th>capacity</th>\n",
       "      <th>items</th>\n",
       "    </tr>\n",
       "    <tr>\n",
       "      <th>binId</th>\n",
       "      <th></th>\n",
       "      <th></th>\n",
       "      <th></th>\n",
       "      <th></th>\n",
       "    </tr>\n",
       "  </thead>\n",
       "  <tbody>\n",
       "    <tr>\n",
       "      <th>0</th>\n",
       "      <td>75</td>\n",
       "      <td>78</td>\n",
       "      <td>100.0</td>\n",
       "      <td>[4, 7]</td>\n",
       "    </tr>\n",
       "    <tr>\n",
       "      <th>1</th>\n",
       "      <td>30</td>\n",
       "      <td>48</td>\n",
       "      <td>50.0</td>\n",
       "      <td>[5]</td>\n",
       "    </tr>\n",
       "    <tr>\n",
       "      <th>2</th>\n",
       "      <td>85</td>\n",
       "      <td>96</td>\n",
       "      <td>100.0</td>\n",
       "      <td>[1, 9, 12]</td>\n",
       "    </tr>\n",
       "    <tr>\n",
       "      <th>3</th>\n",
       "      <td>95</td>\n",
       "      <td>66</td>\n",
       "      <td>70.0</td>\n",
       "      <td>[3, 10]</td>\n",
       "    </tr>\n",
       "    <tr>\n",
       "      <th>4</th>\n",
       "      <td>110</td>\n",
       "      <td>150</td>\n",
       "      <td>150.0</td>\n",
       "      <td>[2, 8, 13, 14]</td>\n",
       "    </tr>\n",
       "  </tbody>\n",
       "</table>\n",
       "</div>"
      ],
      "text/plain": [
       "       value  weight  capacity           items\n",
       "binId                                         \n",
       "0         75      78     100.0          [4, 7]\n",
       "1         30      48      50.0             [5]\n",
       "2         85      96     100.0      [1, 9, 12]\n",
       "3         95      66      70.0         [3, 10]\n",
       "4        110     150     150.0  [2, 8, 13, 14]"
      ]
     },
     "execution_count": 3,
     "metadata": {},
     "output_type": "execute_result"
    }
   ],
   "source": [
    "items = pr.data.items_multi()\n",
    "bins = pr.data.bins()\n",
    "items[\"itemId\"] = items.index\n",
    "bins[\"binId\"] = bins.index\n",
    "results = multi_knapsack(items=items, bins=bins)\n",
    "results.groupby([\"binId\"]).agg(\n",
    "    value=(\"value\", \"sum\"),\n",
    "    weight=(\"weight\", \"sum\"),\n",
    "    capacity=(\"capacity\", \"mean\"),\n",
    "    items=(\"itemId\", list),\n",
    ")"
   ]
  },
  {
   "cell_type": "code",
   "execution_count": 4,
   "id": "5183c7e5-c20f-43a3-adb2-f44e363792ef",
   "metadata": {},
   "outputs": [
    {
     "data": {
      "text/plain": [
       "weight    438\n",
       "value     395\n",
       "dtype: int64"
      ]
     },
     "execution_count": 4,
     "metadata": {},
     "output_type": "execute_result"
    }
   ],
   "source": [
    "results[[\"weight\", \"value\"]].sum()"
   ]
  },
  {
   "cell_type": "markdown",
   "id": "ee242c8c-c9c8-45f6-83aa-2f14b0af681e",
   "metadata": {},
   "source": [
    "## Example 3: Bin packing problem to determine number of baskets necessary to carry all items."
   ]
  },
  {
   "cell_type": "markdown",
   "id": "2573b79b-70e0-423f-a2a7-905af1e30f28",
   "metadata": {},
   "source": [
    "### bin_packing returns a DataFrame where each itemId is assigned to a bin.\n",
    "See https://developers.google.com/optimization/bin/bin_packing"
   ]
  },
  {
   "cell_type": "code",
   "execution_count": 5,
   "id": "1e1e37f6-3a5f-4be7-b910-b688b3f7c147",
   "metadata": {},
   "outputs": [
    {
     "data": {
      "text/html": [
       "<div>\n",
       "<style scoped>\n",
       "    .dataframe tbody tr th:only-of-type {\n",
       "        vertical-align: middle;\n",
       "    }\n",
       "\n",
       "    .dataframe tbody tr th {\n",
       "        vertical-align: top;\n",
       "    }\n",
       "\n",
       "    .dataframe thead th {\n",
       "        text-align: right;\n",
       "    }\n",
       "</style>\n",
       "<table border=\"1\" class=\"dataframe\">\n",
       "  <thead>\n",
       "    <tr style=\"text-align: right;\">\n",
       "      <th></th>\n",
       "      <th>weight</th>\n",
       "      <th>weights</th>\n",
       "      <th>items</th>\n",
       "    </tr>\n",
       "    <tr>\n",
       "      <th>binId</th>\n",
       "      <th></th>\n",
       "      <th></th>\n",
       "      <th></th>\n",
       "    </tr>\n",
       "  </thead>\n",
       "  <tbody>\n",
       "    <tr>\n",
       "      <th>0</th>\n",
       "      <td>97</td>\n",
       "      <td>[48, 30, 19]</td>\n",
       "      <td>[0, 1, 2]</td>\n",
       "    </tr>\n",
       "    <tr>\n",
       "      <th>1</th>\n",
       "      <td>99</td>\n",
       "      <td>[36, 36, 27]</td>\n",
       "      <td>[3, 4, 5]</td>\n",
       "    </tr>\n",
       "    <tr>\n",
       "      <th>2</th>\n",
       "      <td>84</td>\n",
       "      <td>[42, 42]</td>\n",
       "      <td>[6, 7]</td>\n",
       "    </tr>\n",
       "    <tr>\n",
       "      <th>3</th>\n",
       "      <td>90</td>\n",
       "      <td>[36, 24, 30]</td>\n",
       "      <td>[8, 9, 10]</td>\n",
       "    </tr>\n",
       "  </tbody>\n",
       "</table>\n",
       "</div>"
      ],
      "text/plain": [
       "       weight       weights       items\n",
       "binId                                  \n",
       "0          97  [48, 30, 19]   [0, 1, 2]\n",
       "1          99  [36, 36, 27]   [3, 4, 5]\n",
       "2          84      [42, 42]      [6, 7]\n",
       "3          90  [36, 24, 30]  [8, 9, 10]"
      ]
     },
     "execution_count": 5,
     "metadata": {},
     "output_type": "execute_result"
    }
   ],
   "source": [
    "items = pr.data.items_bin_packing()\n",
    "items[\"itemId\"] = items.index\n",
    "results = bin_packing(items, capacity=100)\n",
    "results.groupby([\"binId\"]).agg(\n",
    "    weight=(\"weight\", \"sum\"),\n",
    "    weights=(\"weight\", list),\n",
    "    items=(\"itemId\", list),\n",
    ")"
   ]
  },
  {
   "cell_type": "code",
   "execution_count": 3,
   "id": "bb93f491-0f51-4e5a-896d-aab0ef50764b",
   "metadata": {},
   "outputs": [
    {
     "name": "stdout",
     "output_type": "stream",
     "text": [
      "Number of bins required to include all items:\n"
     ]
    },
    {
     "data": {
      "text/plain": [
       "4"
      ]
     },
     "execution_count": 3,
     "metadata": {},
     "output_type": "execute_result"
    }
   ],
   "source": [
    "print(\"Number of bins required to include all items:\")\n",
    "results[\"binId\"].nunique()"
   ]
  }
 ],
 "metadata": {
  "kernelspec": {
   "display_name": "Python 3 (ipykernel)",
   "language": "python",
   "name": "python3"
  },
  "language_info": {
   "codemirror_mode": {
    "name": "ipython",
    "version": 3
   },
   "file_extension": ".py",
   "mimetype": "text/x-python",
   "name": "python",
   "nbconvert_exporter": "python",
   "pygments_lexer": "ipython3",
   "version": "3.9.13"
  }
 },
 "nbformat": 4,
 "nbformat_minor": 5
}
